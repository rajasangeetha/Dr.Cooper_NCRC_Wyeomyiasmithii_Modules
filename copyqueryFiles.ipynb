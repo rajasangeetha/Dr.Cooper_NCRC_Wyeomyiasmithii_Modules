{
 "cells": [
  {
   "cell_type": "code",
   "execution_count": 15,
   "metadata": {},
   "outputs": [],
   "source": [
    "import os\n",
    "from shutil import copyfile\n",
    "\n",
    "queryNameList = list()\n",
    "\n",
    "#_1.html\n",
    "\n",
    "with open(\"allQueryNames.txt\") as fileHandler:\n",
    "    for line in fileHandler:\n",
    "        queryName = line.strip()\n",
    "        #print(components)\n",
    "        #if component not in compoList:\n",
    "        queryNameList.append(queryName)\n",
    "    \n",
    "for queryN in queryNameList:\n",
    "    #print(queryN)\n",
    "    \n",
    "    fileName = queryN + \"_1.html\";\n",
    "    #print(fileName)\n",
    "    #print(sourceDir)\n",
    "    \n",
    "    sourceDir = \"F:/Sangeetha/College/UNCC/Spring2022/Dr.CoopersProject/StructRNAfinder/Output/html/tables/\" + fileName\n",
    "    distDir = \"F:/Sangeetha/College/UNCC/Spring2022/Dr.CoopersProject/StructRNAfinder/Output/copyFiles/\" + fileName;\n",
    "\n",
    "    if os.path.isfile(sourceDir):\n",
    "        #print(\"File exists\")\n",
    "        copyfile(sourceDir, distDir)\n",
    "    else:\n",
    "        print(fileName + \" File does not exists\")\n"
   ]
  },
  {
   "cell_type": "code",
   "execution_count": null,
   "metadata": {},
   "outputs": [],
   "source": []
  }
 ],
 "metadata": {
  "kernelspec": {
   "display_name": "Python 3",
   "language": "python",
   "name": "python3"
  },
  "language_info": {
   "codemirror_mode": {
    "name": "ipython",
    "version": 3
   },
   "file_extension": ".py",
   "mimetype": "text/x-python",
   "name": "python",
   "nbconvert_exporter": "python",
   "pygments_lexer": "ipython3",
   "version": "3.8.5"
  }
 },
 "nbformat": 4,
 "nbformat_minor": 4
}
